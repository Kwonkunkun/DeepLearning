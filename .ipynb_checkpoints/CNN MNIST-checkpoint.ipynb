{
 "cells": [
  {
   "cell_type": "code",
   "execution_count": 1,
   "metadata": {},
   "outputs": [],
   "source": [
    "import torch\n",
    "import torch.nn as nn\n",
    "import torch.optim as optim\n",
    "import torch.nn.init as init\n",
    "import torchvision.datasets as dset\n",
    "import torchvision.transforms as transforms\n",
    "from torch.utils.data import DataLoader\n",
    "import numpy as np\n",
    "import matplotlib.pyplot as plt"
   ]
  },
  {
   "cell_type": "code",
   "execution_count": 2,
   "metadata": {},
   "outputs": [],
   "source": [
    "batch_size = 256\n",
    "learning_rate = 0.0002\n",
    "num_epoch = 10"
   ]
  },
  {
   "cell_type": "code",
   "execution_count": 3,
   "metadata": {},
   "outputs": [],
   "source": [
    "mnist_train = dset.MNIST(root=\"../\", train=True, transform=transforms.ToTensor(), target_transform=None, download=True)\n",
    "mnist_test = dset.MNIST(root=\"../\", train=False, transform=transforms.ToTensor(), target_transform=None, download=True)"
   ]
  },
  {
   "cell_type": "code",
   "execution_count": 4,
   "metadata": {},
   "outputs": [
    {
     "name": "stdout",
     "output_type": "stream",
     "text": [
      "torch.Size([1, 28, 28]) 60000\n",
      "torch.Size([1, 28, 28]) 10000\n",
      "60000 10000\n"
     ]
    }
   ],
   "source": [
    "print(mnist_train.__getitem__(0)[0].size(), mnist_train.__len__())\n",
    "print(mnist_test.__getitem__(0)[0].size(), mnist_test.__len__())\n",
    "\n",
    "print(len(mnist_train),len(mnist_test))"
   ]
  },
  {
   "cell_type": "code",
   "execution_count": 5,
   "metadata": {},
   "outputs": [],
   "source": [
    "#drop_last는 배치로 묶고 남은데이터를 어떻게 할건지임. true면 버림\n",
    "train_loader = DataLoader(mnist_train,batch_size=batch_size, shuffle=True,num_workers=2,drop_last=True)\n",
    "test_loader = DataLoader(mnist_test,batch_size=batch_size, shuffle=False,num_workers=2,drop_last=True)"
   ]
  },
  {
   "cell_type": "code",
   "execution_count": 6,
   "metadata": {},
   "outputs": [],
   "source": [
    "class CNN(nn.Module):\n",
    "    def __init__(self):\n",
    "        super(CNN, self).__init__()\n",
    "        # 1 28 28 -> 16 24 24\n",
    "        # 16 24 24 -> 32 20 20\n",
    "        # 32 20 20 -> 32 10 10\n",
    "        # 32 10 10 -> 64 6 6\n",
    "        # 64 6 6 -> 64 3 3\n",
    "        self.layer = nn.Sequential(\n",
    "            nn.Conv2d(in_channels=1,out_channels=16,kernel_size=5),             \n",
    "            nn.ReLU(),                                                          \n",
    "            nn.Conv2d(in_channels=16,out_channels=32,kernel_size=5),           \n",
    "            nn.ReLU(),\n",
    "            nn.MaxPool2d(kernel_size=2,stride=2),                          \n",
    "            nn.Conv2d(in_channels=32, out_channels=64, kernel_size=5),          \n",
    "            nn.ReLU(),\n",
    "            nn.MaxPool2d(kernel_size=2,stride=2)                              \n",
    "        )\n",
    "        \n",
    "        # batch size, 64*3*3  -> batch size 100\n",
    "        # batch size, 100  -> batch size 10\n",
    "        self.fc_layer = nn.Sequential(                                          \n",
    "            nn.Linear(64*3*3,100),                                             \n",
    "            nn.ReLU(),\n",
    "            nn.Linear(100,10)                                                   \n",
    "        )\n",
    "        \n",
    "    def forward(self,x):\n",
    "        out = self.layer(x)                                                   \n",
    "        out = out.view(batch_size,-1)                                                                                                                                                                            \n",
    "        out = self.fc_layer(out)\n",
    "        return out"
   ]
  },
  {
   "cell_type": "code",
   "execution_count": 7,
   "metadata": {},
   "outputs": [
    {
     "name": "stdout",
     "output_type": "stream",
     "text": [
      "cuda:0\n"
     ]
    }
   ],
   "source": [
    "# gpu 설정이 가능하면 gpu설정\n",
    "device = torch.device(\"cuda:0\" if torch.cuda.is_available() else \"cpu\")\n",
    "print(device)\n",
    "\n",
    "model = CNN().to(device)\n",
    "loss_func = nn.CrossEntropyLoss()\n",
    "optimizer = torch.optim.Adam(model.parameters(), lr=learning_rate)"
   ]
  },
  {
   "cell_type": "code",
   "execution_count": 8,
   "metadata": {},
   "outputs": [
    {
     "name": "stdout",
     "output_type": "stream",
     "text": [
      "tensor(2.3079, device='cuda:0', grad_fn=<NllLossBackward>)\n",
      "tensor(0.1965, device='cuda:0', grad_fn=<NllLossBackward>)\n",
      "tensor(0.1188, device='cuda:0', grad_fn=<NllLossBackward>)\n",
      "tensor(0.1487, device='cuda:0', grad_fn=<NllLossBackward>)\n",
      "tensor(0.0700, device='cuda:0', grad_fn=<NllLossBackward>)\n",
      "tensor(0.0691, device='cuda:0', grad_fn=<NllLossBackward>)\n",
      "tensor(0.0685, device='cuda:0', grad_fn=<NllLossBackward>)\n",
      "tensor(0.0469, device='cuda:0', grad_fn=<NllLossBackward>)\n",
      "tensor(0.0215, device='cuda:0', grad_fn=<NllLossBackward>)\n",
      "tensor(0.0355, device='cuda:0', grad_fn=<NllLossBackward>)\n"
     ]
    }
   ],
   "source": [
    "#train\n",
    "loss_arr =[]\n",
    "for i in range(num_epoch):\n",
    "    for j,[image,label] in enumerate(train_loader):\n",
    "        x = image.to(device)\n",
    "        y = label.to(device)\n",
    "        \n",
    "        optimizer.zero_grad()\n",
    "        output = model.forward(x)\n",
    "        loss = loss_func(output,y)\n",
    "        loss.backward()\n",
    "        optimizer.step()\n",
    "        \n",
    "        if j % 1000 == 0:\n",
    "            print(loss)\n",
    "            loss_arr.append(loss.cpu().detach().numpy())"
   ]
  },
  {
   "cell_type": "code",
   "execution_count": 9,
   "metadata": {},
   "outputs": [
    {
     "data": {
      "image/png": "[encoded data removed]",
      "text/plain": [
       "<Figure size 432x288 with 1 Axes>"
      ]
     },
     "metadata": {
      "needs_background": "light"
     },
     "output_type": "display_data"
    }
   ],
   "source": [
    "#epoch당 loss보기\n",
    "plt.plot(loss_arr)\n",
    "plt.show()"
   ]
  },
  {
   "cell_type": "code",
   "execution_count": 10,
   "metadata": {},
   "outputs": [
    {
     "name": "stdout",
     "output_type": "stream",
     "text": [
      "Accuracy of Test Data: 98.7880630493164%\n"
     ]
    }
   ],
   "source": [
    "#test\n",
    "correct = 0\n",
    "total = 0\n",
    "\n",
    "with torch.no_grad():\n",
    "    for image,label in test_loader:\n",
    "        x = image.to(device)\n",
    "        y_= label.to(device)\n",
    "        output = model.forward(x)\n",
    "    \n",
    "        _,output_index = torch.max(output,1)\n",
    "        \n",
    "        # drop_last의 영향으로 데이터가 잘릴수도 있으므로 total을 직접 구해줌.\n",
    "        total += label.size(0)\n",
    "        \n",
    "        correct += (output_index == y_).sum().float()\n",
    "    \n",
    "    #정확도 print\n",
    "    print(\"Accuracy of Test Data: {}%\".format(100*correct/total))\n"
   ]
  },
  {
   "cell_type": "code",
   "execution_count": null,
   "metadata": {},
   "outputs": [],
   "source": []
  }
 ],
 "metadata": {
  "kernelspec": {
   "display_name": "pytorch가상환경",
   "language": "python",
   "name": "pytorch"
  },
  "language_info": {
   "codemirror_mode": {
    "name": "ipython",
    "version": 3
   },
   "file_extension": ".py",
   "mimetype": "text/x-python",
   "name": "python",
   "nbconvert_exporter": "python",
   "pygments_lexer": "ipython3",
   "version": "3.7.9"
  }
 },
 "nbformat": 4,
 "nbformat_minor": 4
}
